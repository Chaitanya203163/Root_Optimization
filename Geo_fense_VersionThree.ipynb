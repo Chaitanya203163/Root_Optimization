{
  "nbformat": 4,
  "nbformat_minor": 0,
  "metadata": {
    "colab": {
      "provenance": []
    },
    "kernelspec": {
      "name": "python3",
      "display_name": "Python 3"
    },
    "language_info": {
      "name": "python"
    }
  },
  "cells": [
    {
      "cell_type": "code",
      "source": [
        "!pip install geopy"
      ],
      "metadata": {
        "colab": {
          "base_uri": "https://localhost:8080/"
        },
        "id": "EJOPZVfgKwkM",
        "outputId": "d473f507-a508-431a-d9c3-92369f0bd82e"
      },
      "execution_count": null,
      "outputs": [
        {
          "output_type": "stream",
          "name": "stdout",
          "text": [
            "Looking in indexes: https://pypi.org/simple, https://us-python.pkg.dev/colab-wheels/public/simple/\n",
            "Requirement already satisfied: geopy in /usr/local/lib/python3.10/dist-packages (2.3.0)\n",
            "Requirement already satisfied: geographiclib<3,>=1.52 in /usr/local/lib/python3.10/dist-packages (from geopy) (2.0)\n"
          ]
        }
      ]
    },
    {
      "cell_type": "code",
      "source": [
        "import pandas as pd\n",
        "import random\n",
        "import folium\n",
        "from geopy.distance import distance\n",
        "\n",
        "# Read latitude and longitude data from Excel file for retailers\n",
        "retailers_data = pd.read_excel('/content/retailers_data.xlsx')\n",
        "retailer_locations = retailers_data[['Latitude', 'Longitude']].values.tolist()\n",
        "\n",
        "# Read latitude and longitude data from Excel file for construction sites\n",
        "construction_data = pd.read_excel('/content/construction_sites.xlsx')\n",
        "construction_locations = construction_data[['Latitude', 'Longitude']].values.tolist()\n",
        "\n",
        "# Create a list to store the fence coordinates, unique IDs, and colors for retailers\n",
        "fence_coordinates = []\n",
        "location_ids = []\n",
        "colors = []\n",
        "\n",
        "#radius = 10000  # 10 km radius\n",
        "radius = 1000  # 1 km radius\n",
        "\n",
        "for i, location in enumerate(retailer_locations):\n",
        "    latitude, longitude = location\n",
        "\n",
        "    location_id = f\"Location_{i + 1}\"\n",
        "\n",
        "    color = \"#{:06x}\".format(random.randint(0, 0xFFFFFF))\n",
        "\n",
        "    location_ids.append(location_id)\n",
        "    colors.append(color)\n",
        "\n",
        "    fence_coordinates.append((latitude, longitude))\n",
        "\n",
        "map = folium.Map(location=retailer_locations[0], zoom_start=12, tiles='OpenStreetMap')\n",
        "\n",
        "for i, fence_coord in enumerate(fence_coordinates):\n",
        "    location = retailer_locations[i]\n",
        "\n",
        "    folium.Circle(\n",
        "        location=fence_coord,\n",
        "        radius=radius,\n",
        "        color=colors[i],\n",
        "        fill=True,\n",
        "        fill_color=colors[i],\n",
        "    ).add_to(map)\n",
        "\n",
        "    folium.Marker(\n",
        "        location=location,\n",
        "        tooltip=location_ids[i]\n",
        "    ).add_to(map)\n",
        "\n",
        "# Check if construction sites are within the geo fence of retailers\n",
        "is_within_fence = []\n",
        "\n",
        "for construction_location in construction_locations:\n",
        "    within_fence = False\n",
        "\n",
        "    for fence_coord in fence_coordinates:\n",
        "        point_distance = distance(fence_coord, construction_location).meters\n",
        "\n",
        "        if point_distance <= radius:\n",
        "            within_fence = True\n",
        "            break\n",
        "\n",
        "    is_within_fence.append(within_fence)\n",
        "\n",
        "# Add the 'Is Within Fence' column to the construction data\n",
        "construction_data['Is Within Fence'] = is_within_fence\n",
        "\n",
        "# Save the updated construction data to a new Excel file\n",
        "construction_data.to_excel('/content/construction_data_with_fence.xlsx', index=False)\n",
        "\n",
        "map.save(\"geo_fence_map.html\")\n",
        "\n",
        "print(\"Map saved as geo_fence_map.html\")\n",
        "print(\"Construction data with fence information saved as construction_data_with_fence.xlsx\")\n"
      ],
      "metadata": {
        "colab": {
          "base_uri": "https://localhost:8080/"
        },
        "id": "RYXxIh1rPOcM",
        "outputId": "2bb841a5-7b81-4436-9957-8109354ad211"
      },
      "execution_count": null,
      "outputs": [
        {
          "output_type": "stream",
          "name": "stdout",
          "text": [
            "Map saved as geo_fence_map.html\n",
            "Construction data with fence information saved as construction_data_with_fence.xlsx\n"
          ]
        }
      ]
    },
    {
      "cell_type": "code",
      "source": [
        "import pandas as pd\n",
        "import random\n",
        "import folium\n",
        "from geopy.distance import distance\n",
        "\n",
        "# Read latitude and longitude data from Excel file for retailers\n",
        "retailers_data = pd.read_excel('/content/retailers_data.xlsx')\n",
        "retailer_locations = retailers_data[['Latitude', 'Longitude']].values.tolist()\n",
        "retailer_ids = retailers_data['Retailer'].values.tolist()\n",
        "\n",
        "# Read latitude and longitude data from Excel file for construction sites\n",
        "construction_data = pd.read_excel('/content/construction_sites.xlsx')\n",
        "construction_locations = construction_data[['Latitude', 'Longitude']].values.tolist()\n",
        "\n",
        "# Create a list to store the fence coordinates, unique IDs, and colors for retailers\n",
        "fence_coordinates = []\n",
        "location_ids = []\n",
        "colors = []\n",
        "\n",
        "# Radius for the geo fence\n",
        "radius = 1000  # 1 km radius\n",
        "\n",
        "for i, location in enumerate(retailer_locations):\n",
        "    latitude, longitude = location\n",
        "\n",
        "    location_id = f\"Location_{i + 1}\"\n",
        "\n",
        "    color = \"#{:06x}\".format(random.randint(0, 0xFFFFFF))\n",
        "\n",
        "    location_ids.append(location_id)\n",
        "    colors.append(color)\n",
        "\n",
        "    fence_coordinates.append((latitude, longitude))\n",
        "\n",
        "map = folium.Map(location=retailer_locations[0], zoom_start=12, tiles='OpenStreetMap')\n",
        "\n",
        "for i, fence_coord in enumerate(fence_coordinates):\n",
        "    location = retailer_locations[i]\n",
        "\n",
        "    folium.Circle(\n",
        "        location=fence_coord,\n",
        "        radius=radius,\n",
        "        color=colors[i],\n",
        "        fill=True,\n",
        "        fill_color=colors[i],\n",
        "    ).add_to(map)\n",
        "\n",
        "    folium.Marker(\n",
        "        location=location,\n",
        "        tooltip=location_ids[i]\n",
        "    ).add_to(map)\n",
        "\n",
        "# Check if construction sites are within the geo fence of retailers\n",
        "construction_retailer_ids = []\n",
        "\n",
        "for construction_location in construction_locations:\n",
        "    within_fence = False\n",
        "    retailer_id = None\n",
        "\n",
        "    for i, fence_coord in enumerate(fence_coordinates):\n",
        "        point_distance = distance(fence_coord, construction_location).meters\n",
        "\n",
        "        if point_distance <= radius:\n",
        "            within_fence = True\n",
        "            retailer_id = retailer_ids[i]\n",
        "            break\n",
        "\n",
        "    if within_fence:\n",
        "        construction_retailer_ids.append(retailer_id)\n",
        "    else:\n",
        "        construction_retailer_ids.append(None)\n",
        "\n",
        "# Add the 'Retailer_ID' column to the construction data\n",
        "construction_data['Retailer_ID'] = construction_retailer_ids\n",
        "\n",
        "# Save the updated construction data to a new Excel file\n",
        "construction_data.to_excel('/content/construction_data_with_fence.xlsx', index=False)\n",
        "\n",
        "map.save(\"geo_fence_map.html\")\n",
        "\n",
        "print(\"Map saved as geo_fence_map.html\")\n",
        "print(\"Construction data with fence information saved as construction_data_with_fence.xlsx\")\n"
      ],
      "metadata": {
        "id": "A28ROAEUP2kf",
        "colab": {
          "base_uri": "https://localhost:8080/"
        },
        "outputId": "6d334baf-e10a-43d4-f5e9-d8e23e88bf9d"
      },
      "execution_count": null,
      "outputs": [
        {
          "output_type": "stream",
          "name": "stdout",
          "text": [
            "Map saved as geo_fence_map.html\n",
            "Construction data with fence information saved as construction_data_with_fence.xlsx\n"
          ]
        }
      ]
    },
    {
      "cell_type": "code",
      "source": [],
      "metadata": {
        "id": "GHVFLNBdXfvK"
      },
      "execution_count": null,
      "outputs": []
    }
  ]
}