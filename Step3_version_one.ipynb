{
  "nbformat": 4,
  "nbformat_minor": 0,
  "metadata": {
    "colab": {
      "provenance": []
    },
    "kernelspec": {
      "name": "python3",
      "display_name": "Python 3"
    },
    "language_info": {
      "name": "python"
    }
  },
  "cells": [
    {
      "cell_type": "code",
      "execution_count": 1,
      "metadata": {
        "colab": {
          "base_uri": "https://localhost:8080/"
        },
        "id": "t9-FF-9Fzq-v",
        "outputId": "1d0c08a7-e35f-4276-94e9-9203906fa326"
      },
      "outputs": [
        {
          "output_type": "stream",
          "name": "stdout",
          "text": [
            "Construction sites mapped to retailers. Output saved in: /content/OUTPUT_construction_data.xlsx\n"
          ]
        }
      ],
      "source": [
        "import pandas as pd\n",
        "import random\n",
        "import folium\n",
        "from geopy.distance import distance\n",
        "\n",
        "def map_construction_sites(retailers_file, construction_sites_file, output_file):\n",
        "    retailers_data = pd.read_excel(retailers_file)\n",
        "    retailer_locations = retailers_data[['Latitude', 'Longitude']].values.tolist()\n",
        "    retailer_ids = retailers_data['Retailer'].values.tolist()\n",
        "\n",
        "    construction_data = pd.read_excel(construction_sites_file)\n",
        "    construction_locations = construction_data[['Latitude', 'Longitude']].values.tolist()\n",
        "    fence_coordinates = []\n",
        "    location_ids = []\n",
        "    colors = []\n",
        "\n",
        "    radius = 1000\n",
        "\n",
        "    for i, location in enumerate(retailer_locations):\n",
        "        latitude, longitude = location\n",
        "        location_id = f\"Location_{i + 1}\"\n",
        "        color = \"#{:06x}\".format(random.randint(0, 0xFFFFFF))\n",
        "        location_ids.append(location_id)\n",
        "        colors.append(color)\n",
        "        fence_coordinates.append((latitude, longitude))\n",
        "\n",
        "    map = folium.Map(location=retailer_locations[0], zoom_start=12, tiles='OpenStreetMap')\n",
        "\n",
        "    # Add retailer geo fences to the map\n",
        "    for i, fence_coord in enumerate(fence_coordinates):\n",
        "        location = retailer_locations[i]\n",
        "        folium.Circle(\n",
        "            location=fence_coord,\n",
        "            radius=radius,\n",
        "            color=colors[i],\n",
        "            fill=True,\n",
        "            fill_color=colors[i],\n",
        "            fill_opacity=0.4\n",
        "        ).add_to(map)\n",
        "        folium.Marker(\n",
        "            location=location,\n",
        "            tooltip=location_ids[i]\n",
        "        ).add_to(map)\n",
        "\n",
        "\n",
        "    for construction_location in construction_locations:\n",
        "        folium.Rectangle(\n",
        "            bounds=[(construction_location[0] - 0.001, construction_location[1] - 0.001),\n",
        "                    (construction_location[0] + 0.001, construction_location[1] + 0.001)],\n",
        "            color='yellow',\n",
        "            fill=True,\n",
        "            fill_color='yellow',\n",
        "            fill_opacity=0.4\n",
        "        ).add_to(map)\n",
        "\n",
        "    construction_retailer_ids = []\n",
        "    construction_geo_fences = []\n",
        "\n",
        "    for construction_location in construction_locations:\n",
        "        within_fences = []\n",
        "        retailer_ids_within_fences = []\n",
        "\n",
        "        for i, fence_coord in enumerate(fence_coordinates):\n",
        "            point_distance = distance(fence_coord, construction_location).meters\n",
        "\n",
        "            if point_distance <= radius:\n",
        "                within_fences.append(location_ids[i])\n",
        "                retailer_ids_within_fences.append(retailer_ids[i])\n",
        "\n",
        "        if within_fences:\n",
        "            sorted_retailer_ids = sorted(retailer_ids_within_fences, key=lambda x: construction_retailer_ids.count(x))\n",
        "            construction_retailer_ids.append(sorted_retailer_ids)\n",
        "            construction_geo_fences.append(within_fences)\n",
        "        else:\n",
        "            construction_retailer_ids.append(['Not_mapped_retailer'])\n",
        "            construction_geo_fences.append(None)\n",
        "\n",
        "\n",
        "    retailer_construction_data = pd.DataFrame(columns=['Retailer', 'Construction Sites'])\n",
        "\n",
        "    for i, retailer_id in enumerate(retailer_ids):\n",
        "        construction_sites = [construction_data['Construction_id'][j] for j, ids in enumerate(construction_retailer_ids) if retailer_id in ids]\n",
        "        if not construction_sites:\n",
        "            construction_sites.append('undefined_construction_site')\n",
        "        retailer_construction_data.loc[i] = [retailer_id, ', '.join(construction_sites)]\n",
        "\n",
        "    # Check for undefined retailers\n",
        "    for i, construction_sites in enumerate(construction_data['Construction_id']):\n",
        "        if not any(retailer_id in construction_retailer_ids[i] for retailer_id in retailer_ids):\n",
        "            retailer_construction_data.loc[len(retailer_construction_data)] = ['undefined_retailer', construction_sites]\n",
        "\n",
        "    with pd.ExcelWriter(output_file) as writer:\n",
        "        retailer_construction_data.to_excel(writer, sheet_name='Construction_Data', index=False)\n",
        "\n",
        "    map.save(\"geo_fence_map.html\")\n",
        "\n",
        "    print('Construction sites mapped to retailers. Output saved in:', output_file)\n",
        "\n",
        "map_construction_sites('/content/retailers_data.xlsx', '/content/construction_sites.xlsx', '/content/OUTPUT_construction_data.xlsx')"
      ]
    },
    {
      "cell_type": "code",
      "source": [],
      "metadata": {
        "id": "r1IpNYhLz_gI"
      },
      "execution_count": null,
      "outputs": []
    }
  ]
}