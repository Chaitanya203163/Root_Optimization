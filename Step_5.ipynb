{
  "nbformat": 4,
  "nbformat_minor": 0,
  "metadata": {
    "colab": {
      "provenance": [],
      "authorship_tag": "ABX9TyPVMsPoIejdLAPM3hVVHYuK",
      "include_colab_link": true
    },
    "kernelspec": {
      "name": "python3",
      "display_name": "Python 3"
    },
    "language_info": {
      "name": "python"
    }
  },
  "cells": [
    {
      "cell_type": "markdown",
      "metadata": {
        "id": "view-in-github",
        "colab_type": "text"
      },
      "source": [
        "<a href=\"https://colab.research.google.com/github/Chaitanya203163/Root_Optimization/blob/Step5/Step_5.ipynb\" target=\"_parent\"><img src=\"https://colab.research.google.com/assets/colab-badge.svg\" alt=\"Open In Colab\"/></a>"
      ]
    },
    {
      "cell_type": "code",
      "execution_count": 2,
      "metadata": {
        "id": "oF5-yLFPCdwU"
      },
      "outputs": [],
      "source": [
        "import pandas as pd\n",
        "from geopy.distance import geodesic\n",
        "import folium\n",
        "import heapq\n",
        "\n",
        "def calculate_distance(lat1, lon1, lat2, lon2):\n",
        "    coords_1 = (lat1, lon1)\n",
        "    coords_2 = (lat2, lon2)\n",
        "    return geodesic(coords_1, coords_2).km\n",
        "\n",
        "def allocate_construction_sites(construction_df, retailer_df):\n",
        "    allocation = {retailer_id: [] for retailer_id in retailer_df['Retailer_id']}\n",
        "\n",
        "\n",
        "    for _, construction_row in construction_df.iterrows():\n",
        "        min_distance = float('inf')\n",
        "        closest_retailer = None\n",
        "\n",
        "        for _, retailer_row in retailer_df.iterrows():\n",
        "            distance = calculate_distance(construction_row['Latitude'], construction_row['Longitude'],\n",
        "                                          retailer_row['Latitude'], retailer_row['Longitude'])\n",
        "            if distance < min_distance:\n",
        "                min_distance = distance\n",
        "                closest_retailer = retailer_row['Retailer_id']\n",
        "\n",
        "        allocation[closest_retailer].append(construction_row['Construction_id'])\n",
        "\n",
        "    return allocation\n",
        "\n",
        "def main():\n",
        "\n",
        "    construction_df = pd.read_excel('/content/construction_sites.xlsx')\n",
        "    retailer_df = pd.read_excel('/content/retailers_data.xlsx')\n",
        "\n",
        "\n",
        "    allocation = allocate_construction_sites(construction_df, retailer_df)\n",
        "\n",
        "\n",
        "    retailer_ids = list(retailer_df['Retailer_id'])\n",
        "    max_allocated_sites = max(len(allocated_sites) for _, allocated_sites in allocation.items())\n",
        "    allocation_dict = {retailer_id: allocated_sites + [''] * (max_allocated_sites - len(allocated_sites))\n",
        "                       for retailer_id, allocated_sites in allocation.items()}\n",
        "    allocation_df = pd.DataFrame(allocation_dict)\n",
        "    allocation_df.to_excel('construction_allocation.xlsx', index=False)\n",
        "\n",
        "\n",
        "    m = folium.Map(location=[retailer_df['Latitude'].mean(), retailer_df['Longitude'].mean()], zoom_start=13)\n",
        "\n",
        "\n",
        "    for _, row in retailer_df.iterrows():\n",
        "        folium.Marker([row['Latitude'], row['Longitude']], popup=row['Retailer_id']).add_to(m)\n",
        "        folium.Circle([row['Latitude'], row['Longitude']], radius=1000, color='blue', fill=True, fill_color='blue').add_to(m)\n",
        "\n",
        "    for _, row in construction_df.iterrows():\n",
        "        folium.Circle([row['Latitude'], row['Longitude']], radius=50, color='red', fill=True, fill_color='red').add_to(m)\n",
        "\n",
        "    m.save('map.html')\n",
        "\n",
        "if __name__ == \"__main__\":\n",
        "    main()\n"
      ]
    },
    {
      "cell_type": "code",
      "source": [],
      "metadata": {
        "id": "TA9XLXEyC47i"
      },
      "execution_count": null,
      "outputs": []
    }
  ]
}